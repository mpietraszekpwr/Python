{
 "cells": [
  {
   "metadata": {},
   "cell_type": "markdown",
   "source": [
    "# This is a sample Jupyter Notebook\n",
    "\n",
    "Below is an example of a code cell. \n",
    "Put your cursor into the cell and press Shift+Enter to execute it and select the next one, or click !here goes the icon of the corresponding button in the gutter! button.\n",
    "To debug a cell, press Alt+Shift+Enter, or click !here goes the icon of the corresponding button in the gutter! button.\n",
    "\n",
    "Press Double Shift to search everywhere for classes, files, tool windows, actions, and settings.\n",
    "\n",
    "To learn more about Jupyter Notebooks in PyCharm, see [help](https://www.jetbrains.com/help/pycharm/jupyter-notebook-support.html).\n",
    "For an overview of PyCharm, go to Help -> Learn IDE features or refer to [our documentation](https://www.jetbrains.com/help/pycharm/getting-started.html)."
   ],
   "id": "8a77807f92f26ee"
  },
  {
   "metadata": {
    "ExecuteTime": {
     "end_time": "2024-06-10T11:24:17.617008Z",
     "start_time": "2024-06-10T11:24:17.602708Z"
    }
   },
   "cell_type": "code",
   "source": [
    "# Zad 1. \n",
    "\"\"\"\n",
    "    Funkcja oblicza pole powierzchni trójkąta na podstawie długości jego boków.\n",
    "\n",
    "    Parametry:\n",
    "    a : Długość pierwszego boku trójkąta.\n",
    "    b : Długość drugiego boku trójkąta.\n",
    "    c : Długość trzeciego boku trójkąta.\n",
    "    Zwraca:\n",
    "    float: Pole powierzchni trójkąta obliczone przy użyciu wzoru Herona.\n",
    "    \n",
    "    Jeśli długości boków nie spełniają warunków istnienia trójkąta, funkcja wypisuje \n",
    "    komunikat \"trójkąt nie istnieje\" i nie zwraca żadnej wartości.\n",
    "    \"\"\"\n",
    "import math \n",
    "def poletrojkata(a,b,c):\n",
    "    if a <= 0 or b <=0 or c <= 0:\n",
    "        print(\"trójkąt nie istnieje\")\n",
    "    p = 0.5*(a+b+c)\n",
    "    s = math.sqrt(p*(p-a)*(p-b)*(p-c))\n",
    "    return s\n",
    "pole = poletrojkata(1.5,4.5,5.0)\n",
    "print(f\"Pole o bokach: wynosi: {pole}\")"
   ],
   "id": "b066a1005a6629c2",
   "outputs": [
    {
     "name": "stdout",
     "output_type": "stream",
     "text": [
      "Pole o bokach: wynosi: 3.3166247903554\n"
     ]
    }
   ],
   "execution_count": 12
  },
  {
   "metadata": {
    "ExecuteTime": {
     "end_time": "2024-06-10T11:24:39.531692Z",
     "start_time": "2024-06-10T11:24:39.515530Z"
    }
   },
   "cell_type": "code",
   "source": [
    "# Zad 5. \n",
    "\"\"\"\n",
    "    Funkcja generuje ciąg Collatza zaczynając od zadanej liczby k.\n",
    "\n",
    "    Parametry:\n",
    "    k: Liczba całkowita, od której rozpoczyna się generowanie ciągu Collatza.\n",
    "\n",
    "    Zwraca:\n",
    "    list: Lista liczb całkowitych ciągu Collatza, zaczynając od liczby k \n",
    "    i kończąc na liczbie 1.\n",
    "   \"\"\"\n",
    "def collatz(k):\n",
    "    wynik=[]\n",
    "    while k != 1:\n",
    "        if k % 2 == 0:\n",
    "            k= k//2\n",
    "        else: \n",
    "            k= 3*k +1\n",
    "        wynik.append(k)\n",
    "    return wynik\n",
    " "
   ],
   "id": "fbc121e30a2defb3",
   "outputs": [],
   "execution_count": 13
  },
  {
   "metadata": {
    "ExecuteTime": {
     "end_time": "2024-06-10T11:19:55.355272Z",
     "start_time": "2024-06-10T11:19:55.339248Z"
    }
   },
   "cell_type": "code",
   "source": "collatz(15)",
   "id": "4f49c92ccdb337e8",
   "outputs": [
    {
     "data": {
      "text/plain": [
       "[46, 23, 70, 35, 106, 53, 160, 80, 40, 20, 10, 5, 16, 8, 4, 2, 1]"
      ]
     },
     "execution_count": 4,
     "metadata": {},
     "output_type": "execute_result"
    }
   ],
   "execution_count": 4
  },
  {
   "metadata": {
    "ExecuteTime": {
     "end_time": "2024-06-16T15:47:23.678651Z",
     "start_time": "2024-06-16T15:47:23.663028Z"
    }
   },
   "cell_type": "code",
   "source": [
    "#Zad 4.\n",
    "\"\"\"\n",
    "    funkcja tworzy listę pierwszych n liczb Fibonacciego.\n",
    "\n",
    "    Ciąg Fibonacciego:\n",
    "    - Pierwsza liczba to 0(x1).\n",
    "    - Druga liczba to 1(x2).\n",
    "    - Każda kolejna liczba jest sumą dwóch poprzednich liczb.\n",
    "\n",
    "    Parametry:\n",
    "    n: Liczba określająca ilość liczb Fibonacciego.\n",
    "\n",
    "    Zwraca:\n",
    "    Lista zawierająca pierwsze n liczb Fibonacciego.\n",
    "    \"\"\"\n",
    "def fibonacci(n):\n",
    "    ciag = []\n",
    "    x1 = 0\n",
    "    x2 = 1\n",
    "    for i in range(n):\n",
    "        ciag.append(x1)\n",
    "        x = x1 + x2\n",
    "        x1 = x2\n",
    "        x2 = x\n",
    "    return ciag\n"
   ],
   "id": "4ffedd98e774e1c0",
   "outputs": [],
   "execution_count": 11
  },
  {
   "metadata": {
    "ExecuteTime": {
     "end_time": "2024-06-16T15:47:51.887381Z",
     "start_time": "2024-06-16T15:47:51.871364Z"
    }
   },
   "cell_type": "code",
   "source": "fibonacci(10)",
   "id": "3af86a5c2341f1d1",
   "outputs": [
    {
     "data": {
      "text/plain": [
       "[0, 1, 1, 2, 3, 5, 8, 13, 21, 34]"
      ]
     },
     "execution_count": 14,
     "metadata": {},
     "output_type": "execute_result"
    }
   ],
   "execution_count": 14
  },
  {
   "metadata": {},
   "cell_type": "code",
   "outputs": [
    {
     "data": {
      "text/plain": [
       "{3}"
      ]
     },
     "execution_count": 7,
     "metadata": {},
     "output_type": "execute_result"
    }
   ],
   "execution_count": 7,
   "source": [
    "\"\"\"\"\n",
    "Funkcja przyjmuje dwa argumenty (set) i zwraca zbiór wspólnych elementów w obu zbiorach.\n",
    "    Jeśli nie ma wspólnych elementów, zwraca komunikat \"nie ma wspólnych\".\n",
    "\n",
    "    Parametry:\n",
    "    x: Pierwsza lista elementów.\n",
    "    y: Druga lista elementów.\n",
    "\n",
    "    Zwraca:\n",
    "    Zbiór wspólnych elementów.\n",
    "    \"\"\"\n",
    "#Zad. 2.\n",
    "def common(x,y):\n",
    "    set_a = set(x)\n",
    "    set_b = set(y)\n",
    "    if set_a & set_b:\n",
    "        return set_a & set_b\n",
    "    else:\n",
    "        return \"nie ma wspólnych\"\n",
    "set_a = [1,2,3,3]\n",
    "set_b = [3,3,5]\n",
    "common(set_a, set_b)"
   ],
   "id": "8f0df87c91a89f75"
  },
  {
   "metadata": {
    "ExecuteTime": {
     "end_time": "2024-06-10T11:20:46.727181Z",
     "start_time": "2024-06-10T11:20:46.691579Z"
    }
   },
   "cell_type": "code",
   "source": [
    "\"\"\"\n",
    "    funkcja mulizbiory generuje wszystkie mulizbiory dla danego ciągu znaków.\n",
    "\n",
    "    Parametry:\n",
    "    zb: Lista elementów, dla których mają być wygenerowane multizbiory.\n",
    "\n",
    "    \"\"\"\n",
    "#Zad 3.\n",
    "def multizbiory(zb):\n",
    "    w=list()\n",
    "    w.append([])\n",
    "    for n in zb:\n",
    "        w=w+[x+[n] for x in w]\n",
    "    return w"
   ],
   "id": "fafbf4bcfc8be93a",
   "outputs": [],
   "execution_count": 7
  },
  {
   "metadata": {
    "ExecuteTime": {
     "end_time": "2024-06-10T11:20:58.368413Z",
     "start_time": "2024-06-10T11:20:58.354292Z"
    }
   },
   "cell_type": "code",
   "source": "multizbiory('abcd')",
   "id": "c5f0acaf53182e54",
   "outputs": [
    {
     "data": {
      "text/plain": [
       "[[],\n",
       " ['a'],\n",
       " ['b'],\n",
       " ['a', 'b'],\n",
       " ['c'],\n",
       " ['a', 'c'],\n",
       " ['b', 'c'],\n",
       " ['a', 'b', 'c'],\n",
       " ['d'],\n",
       " ['a', 'd'],\n",
       " ['b', 'd'],\n",
       " ['a', 'b', 'd'],\n",
       " ['c', 'd'],\n",
       " ['a', 'c', 'd'],\n",
       " ['b', 'c', 'd'],\n",
       " ['a', 'b', 'c', 'd']]"
      ]
     },
     "execution_count": 8,
     "metadata": {},
     "output_type": "execute_result"
    }
   ],
   "execution_count": 8
  },
  {
   "metadata": {
    "ExecuteTime": {
     "end_time": "2024-06-17T14:30:08.540553Z",
     "start_time": "2024-06-17T14:30:08.524822Z"
    }
   },
   "cell_type": "code",
   "source": [
    "\"\"\"\n",
    "    funkcja generuje komplementarną sekwencję RNA na podstawie podanej sekwencji DNA.\n",
    "    parametr x: Sekwencja DNA do przekształcenia. \n",
    "    zwraca: Sekwencję która jest komplementarną sekwencją do podanej sekwencji DNA.\n",
    "\"\"\"\n",
    "#Zad. 6. \n",
    "# Źródło: https://stackoverflow.com/questions/37981405/how-do-you-replace-and-reverse-a-string-in-python\n",
    "def komplement(x):\n",
    "    x = x.replace('A', 'U')\n",
    "    x = x.replace('T', 'A')\n",
    "    x = x.replace('C', 'G')\n",
    "    x = x.replace('G', 'C')\n",
    "    return x\n",
    "x = 'ABCD'\n",
    "print(f\"Nić matrycowa: {(x)}\")\n",
    "print(f\"Nić kodująca: {komplement(x)}\")\n",
    "transkrypcja = komplement(x)\n",
    "\n",
    "def transkrybuj(transkrypcja):\n",
    "    transkrypcja = transkrypcja.replace('U', 'T')\n",
    "    return transkrypcja\n",
    "print(f\"Sekwencja RNA: {transkrybuj(transkrypcja)}\")"
   ],
   "id": "4c5ec6a861cb19e7",
   "outputs": [
    {
     "name": "stdout",
     "output_type": "stream",
     "text": [
      "Nić matrycowa: ABCD\n",
      "Nić kodująca: UBCD\n",
      "Sekwencja RNA: TBCD\n"
     ]
    }
   ],
   "execution_count": 17
  },
  {
   "metadata": {},
   "cell_type": "code",
   "outputs": [],
   "execution_count": null,
   "source": "",
   "id": "10d2cc3c70832832"
  }
 ],
 "metadata": {
  "kernelspec": {
   "display_name": "Python 3",
   "language": "python",
   "name": "python3"
  },
  "language_info": {
   "codemirror_mode": {
    "name": "ipython",
    "version": 2
   },
   "file_extension": ".py",
   "mimetype": "text/x-python",
   "name": "python",
   "nbconvert_exporter": "python",
   "pygments_lexer": "ipython2",
   "version": "2.7.6"
  }
 },
 "nbformat": 4,
 "nbformat_minor": 5
}
