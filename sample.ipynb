{
 "cells": [
  {
   "metadata": {},
   "cell_type": "markdown",
   "source": [
    "# This is a sample Jupyter Notebook\n",
    "\n",
    "Below is an example of a code cell. \n",
    "Put your cursor into the cell and press Shift+Enter to execute it and select the next one, or click !here goes the icon of the corresponding button in the gutter! button.\n",
    "To debug a cell, press Alt+Shift+Enter, or click !here goes the icon of the corresponding button in the gutter! button.\n",
    "\n",
    "Press Double Shift to search everywhere for classes, files, tool windows, actions, and settings.\n",
    "\n",
    "To learn more about Jupyter Notebooks in PyCharm, see [help](https://www.jetbrains.com/help/pycharm/jupyter-notebook-support.html).\n",
    "For an overview of PyCharm, go to Help -> Learn IDE features or refer to [our documentation](https://www.jetbrains.com/help/pycharm/getting-started.html)."
   ],
   "id": "8a77807f92f26ee"
  },
  {
   "metadata": {
    "ExecuteTime": {
     "end_time": "2024-06-10T11:24:17.617008Z",
     "start_time": "2024-06-10T11:24:17.602708Z"
    }
   },
   "cell_type": "code",
   "source": [
    "# Zad 1. \n",
    "import math \n",
    "def poletrojkata(a,b,c):\n",
    "    if a <= 0 or b <=0 or c <= 0:\n",
    "        print(\"trójkąt nie istnieje\")\n",
    "    p = 0.5*(a+b+c)\n",
    "    s = math.sqrt(p*(p-a)*(p-b)*(p-c))\n",
    "    return s\n",
    "pole = poletrojkata(1.5,4.5,5.0)\n",
    "print(f\"Pole o bokach: wynosi: {pole}\")"
   ],
   "id": "b066a1005a6629c2",
   "outputs": [
    {
     "name": "stdout",
     "output_type": "stream",
     "text": [
      "Pole o bokach: wynosi: 3.3166247903554\n"
     ]
    }
   ],
   "execution_count": 12
  },
  {
   "metadata": {
    "ExecuteTime": {
     "end_time": "2024-06-10T11:24:39.531692Z",
     "start_time": "2024-06-10T11:24:39.515530Z"
    }
   },
   "cell_type": "code",
   "source": [
    "# Zad 5. \n",
    "def collatz(k):\n",
    "    wynik=[]\n",
    "    while k != 1:\n",
    "        if k % 2 == 0:\n",
    "            k= k//2\n",
    "        else: \n",
    "            k= 3*k +1\n",
    "        wynik.append(k)\n",
    "    return wynik\n",
    " "
   ],
   "id": "fbc121e30a2defb3",
   "outputs": [],
   "execution_count": 13
  },
  {
   "metadata": {
    "ExecuteTime": {
     "end_time": "2024-06-10T11:19:55.355272Z",
     "start_time": "2024-06-10T11:19:55.339248Z"
    }
   },
   "cell_type": "code",
   "source": "collatz(15)",
   "id": "4f49c92ccdb337e8",
   "outputs": [
    {
     "data": {
      "text/plain": [
       "[46, 23, 70, 35, 106, 53, 160, 80, 40, 20, 10, 5, 16, 8, 4, 2, 1]"
      ]
     },
     "execution_count": 4,
     "metadata": {},
     "output_type": "execute_result"
    }
   ],
   "execution_count": 4
  },
  {
   "metadata": {
    "ExecuteTime": {
     "end_time": "2024-06-10T11:25:06.330846Z",
     "start_time": "2024-06-10T11:25:06.319539Z"
    }
   },
   "cell_type": "code",
   "source": [
    "#Zad 4.\n",
    "x1 = 0\n",
    "x2 =1\n",
    "for i in range(0,6):\n",
    "    x = x1+x2\n",
    "    x1= x2\n",
    "    x2 =x \n",
    "    print(x)\n",
    "    "
   ],
   "id": "4ffedd98e774e1c0",
   "outputs": [
    {
     "name": "stdout",
     "output_type": "stream",
     "text": [
      "1\n",
      "2\n",
      "3\n",
      "5\n",
      "8\n",
      "13\n"
     ]
    }
   ],
   "execution_count": 14
  },
  {
   "metadata": {
    "ExecuteTime": {
     "end_time": "2024-06-10T11:20:37.309519Z",
     "start_time": "2024-06-10T11:20:37.283526Z"
    }
   },
   "cell_type": "code",
   "source": [
    "#Zad. 2.\n",
    "def common(x,y):\n",
    "    set_a = set(x)\n",
    "    set_b = set(y)\n",
    "    if set_a & set_b:\n",
    "        return set_a & set_b\n",
    "    else:\n",
    "        return \"nie ma wspólnych\"\n",
    "set_a = [1,2,3,3]\n",
    "set_b = [3,3,5]\n",
    "common(set_a, set_b)"
   ],
   "id": "8f0df87c91a89f75",
   "outputs": [
    {
     "data": {
      "text/plain": [
       "{3}"
      ]
     },
     "execution_count": 6,
     "metadata": {},
     "output_type": "execute_result"
    }
   ],
   "execution_count": 6
  },
  {
   "metadata": {
    "ExecuteTime": {
     "end_time": "2024-06-10T11:20:46.727181Z",
     "start_time": "2024-06-10T11:20:46.691579Z"
    }
   },
   "cell_type": "code",
   "source": [
    "#Zad 3.\n",
    "def multizbiory(zb):\n",
    "    w=list()\n",
    "    w.append([])\n",
    "    for n in zb:\n",
    "        w=w+[x+[n] for x in w]\n",
    "    return w"
   ],
   "id": "fafbf4bcfc8be93a",
   "outputs": [],
   "execution_count": 7
  },
  {
   "metadata": {
    "ExecuteTime": {
     "end_time": "2024-06-10T11:20:58.368413Z",
     "start_time": "2024-06-10T11:20:58.354292Z"
    }
   },
   "cell_type": "code",
   "source": "multizbiory('abcd')",
   "id": "c5f0acaf53182e54",
   "outputs": [
    {
     "data": {
      "text/plain": [
       "[[],\n",
       " ['a'],\n",
       " ['b'],\n",
       " ['a', 'b'],\n",
       " ['c'],\n",
       " ['a', 'c'],\n",
       " ['b', 'c'],\n",
       " ['a', 'b', 'c'],\n",
       " ['d'],\n",
       " ['a', 'd'],\n",
       " ['b', 'd'],\n",
       " ['a', 'b', 'd'],\n",
       " ['c', 'd'],\n",
       " ['a', 'c', 'd'],\n",
       " ['b', 'c', 'd'],\n",
       " ['a', 'b', 'c', 'd']]"
      ]
     },
     "execution_count": 8,
     "metadata": {},
     "output_type": "execute_result"
    }
   ],
   "execution_count": 8
  },
  {
   "metadata": {
    "ExecuteTime": {
     "end_time": "2024-06-10T11:21:13.497262Z",
     "start_time": "2024-06-10T11:21:13.487298Z"
    }
   },
   "cell_type": "code",
   "source": [
    "#Zad. 6. \n",
    "x = {'A': 'T', 'T': 'A', 'C': 'G', 'G': 'C'}\n",
    "y = ['ATACC']\n",
    "\n",
    "for el in y:\n",
    "    k = ''.join([x[char] for char in el])\n",
    "    print(k)    "
   ],
   "id": "4c5ec6a861cb19e7",
   "outputs": [
    {
     "name": "stdout",
     "output_type": "stream",
     "text": [
      "TATGG\n"
     ]
    }
   ],
   "execution_count": 9
  },
  {
   "metadata": {
    "ExecuteTime": {
     "end_time": "2024-06-10T11:21:25.282340Z",
     "start_time": "2024-06-10T11:21:25.266467Z"
    }
   },
   "cell_type": "code",
   "source": [
    "# Zad. 6.\n",
    "def t(j):\n",
    "    j = ''.join(reversed(j))\n",
    "    return j "
   ],
   "id": "9fa401e2905a4667",
   "outputs": [],
   "execution_count": 10
  },
  {
   "metadata": {
    "ExecuteTime": {
     "end_time": "2024-06-10T11:21:46.093043Z",
     "start_time": "2024-06-10T11:21:46.084609Z"
    }
   },
   "cell_type": "code",
   "source": "t('AAGTGC')",
   "id": "6716b32a9d0568d5",
   "outputs": [
    {
     "data": {
      "text/plain": [
       "'CGTGAA'"
      ]
     },
     "execution_count": 11,
     "metadata": {},
     "output_type": "execute_result"
    }
   ],
   "execution_count": 11
  },
  {
   "metadata": {},
   "cell_type": "code",
   "outputs": [],
   "execution_count": null,
   "source": "",
   "id": "a5e1381fedde2ac4"
  }
 ],
 "metadata": {
  "kernelspec": {
   "display_name": "Python 3",
   "language": "python",
   "name": "python3"
  },
  "language_info": {
   "codemirror_mode": {
    "name": "ipython",
    "version": 2
   },
   "file_extension": ".py",
   "mimetype": "text/x-python",
   "name": "python",
   "nbconvert_exporter": "python",
   "pygments_lexer": "ipython2",
   "version": "2.7.6"
  }
 },
 "nbformat": 4,
 "nbformat_minor": 5
}
